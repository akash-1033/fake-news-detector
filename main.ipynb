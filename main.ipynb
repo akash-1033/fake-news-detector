{
 "cells": [
  {
   "cell_type": "code",
   "execution_count": null,
   "id": "e7a205b7-7ac3-4018-ae02-07a1bb9aaac3",
   "metadata": {},
   "outputs": [],
   "source": [
    "import pandas as pd\n",
    "\n",
    "# Load\n",
    "df_fake = pd.read_csv('data/Fake.csv')\n",
    "df_true = pd.read_csv('data/True.csv')\n",
    "\n",
    "# Add labels\n",
    "df_fake['label'] = 0\n",
    "df_true['label'] = 1\n",
    "\n",
    "# Combine\n",
    "df = pd.concat([df_fake, df_true], ignore_index=True)\n",
    "\n",
    "df = df[['title', 'text', 'label']]"
   ]
  },
  {
   "cell_type": "code",
   "execution_count": 2,
   "id": "06e31bd5-29ee-46ad-a774-cb955ed33057",
   "metadata": {},
   "outputs": [],
   "source": [
    "# Drop any rows with missing titles/texts\n",
    "df = df.dropna(subset=['title', 'text'])\n",
    "\n",
    "# Use only 'title' for faster model or combine both\n",
    "df['combined'] = df['title'] + \" \" + df['text']"
   ]
  },
  {
   "cell_type": "code",
   "execution_count": 3,
   "id": "4d8db46f-9e0f-4f14-ba60-5eebbb614ac8",
   "metadata": {},
   "outputs": [],
   "source": [
    "from sklearn.model_selection import train_test_split\n",
    "from sklearn.feature_extraction.text import TfidfVectorizer\n",
    "\n",
    "X = df['combined']\n",
    "y = df['label']\n",
    "\n",
    "X_train, X_test, y_train, y_test = train_test_split(X, y, test_size=0.2, random_state=42)\n",
    "\n",
    "tfidf = TfidfVectorizer(stop_words='english', max_df=0.7)\n",
    "X_train_vec = tfidf.fit_transform(X_train)\n",
    "X_test_vec = tfidf.transform(X_test)"
   ]
  },
  {
   "cell_type": "code",
   "execution_count": 4,
   "id": "7928cdf3-3bcb-436d-8fbc-ac21157b5101",
   "metadata": {},
   "outputs": [
    {
     "name": "stdout",
     "output_type": "stream",
     "text": [
      "Accuracy: 98.60%\n"
     ]
    }
   ],
   "source": [
    "from sklearn.linear_model import LogisticRegression\n",
    "from sklearn.metrics import accuracy_score\n",
    "import joblib\n",
    "\n",
    "model = LogisticRegression()\n",
    "model.fit(X_train_vec, y_train)\n",
    "\n",
    "# Evaluate\n",
    "accuracy = accuracy_score(y_test, model.predict(X_test_vec))\n",
    "print(f\"Accuracy: {accuracy:.2%}\")"
   ]
  },
  {
   "cell_type": "code",
   "execution_count": 5,
   "id": "246cebb6-dec6-4151-9a93-c0d6c0bc059e",
   "metadata": {},
   "outputs": [
    {
     "data": {
      "text/plain": [
       "['model/tfidf_vectorizer.pkl']"
      ]
     },
     "execution_count": 5,
     "metadata": {},
     "output_type": "execute_result"
    }
   ],
   "source": [
    "# Save model and vectorizer\n",
    "joblib.dump(model, 'model/fake_news_model.pkl')\n",
    "joblib.dump(tfidf, 'model/tfidf_vectorizer.pkl')"
   ]
  },
  {
   "cell_type": "code",
   "execution_count": null,
   "id": "1897f9b6-2713-4036-8338-2cca47c2d91a",
   "metadata": {},
   "outputs": [],
   "source": []
  }
 ],
 "metadata": {
  "kernelspec": {
   "display_name": "Python 3 (ipykernel)",
   "language": "python",
   "name": "python3"
  },
  "language_info": {
   "codemirror_mode": {
    "name": "ipython",
    "version": 3
   },
   "file_extension": ".py",
   "mimetype": "text/x-python",
   "name": "python",
   "nbconvert_exporter": "python",
   "pygments_lexer": "ipython3",
   "version": "3.11.3"
  }
 },
 "nbformat": 4,
 "nbformat_minor": 5
}
